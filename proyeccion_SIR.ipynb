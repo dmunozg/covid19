{
 "cells": [
  {
   "cell_type": "code",
   "execution_count": 31,
   "metadata": {},
   "outputs": [
    {
     "data": {
      "text/plain": [
       "'es_ES'"
      ]
     },
     "execution_count": 31,
     "metadata": {},
     "output_type": "execute_result"
    }
   ],
   "source": [
    "#Módulos\n",
    "\n",
    "from scipy import optimize\n",
    "from scipy.integrate import odeint\n",
    "from IPython.display import display, Math, Markdown\n",
    "import numpy as np\n",
    "import matplotlib.pyplot as plt\n",
    "import pandas as pd\n",
    "import locale\n",
    "import datetime\n",
    "\n",
    "locale.setlocale(locale.LC_TIME, 'es_ES')"
   ]
  },
  {
   "cell_type": "code",
   "execution_count": 32,
   "metadata": {},
   "outputs": [],
   "source": [
    "# Modelo SIR\n",
    "\n",
    "def SIRderiv(params, t, N, beta, gamma):\n",
    "    S, I, R = params\n",
    "    dS = -beta*I*S/N\n",
    "    dI = beta*I*S/N - gamma*I\n",
    "    dR = gamma*I\n",
    "    return dS, dI, dR"
   ]
  },
  {
   "cell_type": "code",
   "execution_count": 33,
   "metadata": {},
   "outputs": [
    {
     "name": "stderr",
     "output_type": "stream",
     "text": [
      "/opt/apps/easybuild/software/Anaconda3/2019.03/lib/python3.7/site-packages/pandas/core/frame.py:4133: SettingWithCopyWarning: \n",
      "A value is trying to be set on a copy of a slice from a DataFrame\n",
      "\n",
      "See the caveats in the documentation: https://pandas.pydata.org/pandas-docs/stable/user_guide/indexing.html#returning-a-view-versus-a-copy\n",
      "  errors=errors,\n",
      "/opt/apps/easybuild/software/Anaconda3/2019.03/lib/python3.7/site-packages/ipykernel_launcher.py:13: SettingWithCopyWarning: \n",
      "A value is trying to be set on a copy of a slice from a DataFrame.\n",
      "Try using .loc[row_indexer,col_indexer] = value instead\n",
      "\n",
      "See the caveats in the documentation: https://pandas.pydata.org/pandas-docs/stable/user_guide/indexing.html#returning-a-view-versus-a-copy\n",
      "  del sys.path[0]\n",
      "/opt/apps/easybuild/software/Anaconda3/2019.03/lib/python3.7/site-packages/ipykernel_launcher.py:21: SettingWithCopyWarning: \n",
      "A value is trying to be set on a copy of a slice from a DataFrame.\n",
      "Try using .loc[row_indexer,col_indexer] = value instead\n",
      "\n",
      "See the caveats in the documentation: https://pandas.pydata.org/pandas-docs/stable/user_guide/indexing.html#returning-a-view-versus-a-copy\n"
     ]
    }
   ],
   "source": [
    "# Parseo y procesamiento de datos reales\n",
    "\n",
    "rawData = pd.read_csv(\"casos_chile.csv\")\n",
    "procData = rawData[[\"Casos Nuevos\"]]\n",
    "procData.rename(columns={\"Casos Nuevos\":\"Casos diarios\"}, inplace=True)\n",
    "\n",
    "newRecoveredPerDay = []\n",
    "lastDayRecovered = 0\n",
    "for currentDayRecovered in rawData[\"Recuperados\"]:\n",
    "    newRecoveredPerDay.append(currentDayRecovered - lastDayRecovered)\n",
    "    if not np.isnan(currentDayRecovered):\n",
    "        lastDayRecovered = currentDayRecovered\n",
    "procData[\"Recuperados diarios\"] = newRecoveredPerDay\n",
    "        \n",
    "newDeceasedPerDay = []\n",
    "lastDayDeceased = 0\n",
    "for currentDayDeceased in rawData[\"Fallecidos\"]:\n",
    "    newDeceasedPerDay.append(currentDayDeceased - lastDayDeceased)\n",
    "    if not np.isnan(currentDayDeceased):\n",
    "        lastDayDeceased = currentDayDeceased\n",
    "procData[\"Fallecidos diarios\"] = newDeceasedPerDay"
   ]
  },
  {
   "cell_type": "code",
   "execution_count": 34,
   "metadata": {},
   "outputs": [],
   "source": [
    "#procData = procData.iloc[13:]"
   ]
  },
  {
   "cell_type": "code",
   "execution_count": 35,
   "metadata": {},
   "outputs": [],
   "source": [
    "# Adelantar datos de infectados\n",
    "daysMoved = 0\n",
    "\n",
    "if daysMoved > 0:\n",
    "    initialInfected = 0\n",
    "    for iii in procData[\"Casos diarios\"].tolist()[0:daysMoved-1]:\n",
    "        initialInfected += iii\n",
    "    correctedInfectedPerDay = [initialInfected]\n",
    "    for iii in procData[\"Casos diarios\"].tolist()[daysMoved:]:\n",
    "        correctedInfectedPerDay.append(iii)\n",
    "    newColumn = pd.DataFrame({'Casos corregidos':correctedInfectedPerDay})\n",
    "    procData = pd.concat([procData,newColumn], axis=1)\n",
    "    infectedDataToUse = \"Casos corregidos\"\n",
    "else:\n",
    "    initialInfected = 2\n",
    "    infectedDataToUse = \"Casos diarios\"\n",
    "\n",
    "# Procesar datos para modelo SIR\n",
    "totalInfectedPerDay = []\n",
    "totalRemovedPerDay = []\n",
    "#Condiciones iniciales\n",
    "currentInfected = 0\n",
    "currentRemoved = 0\n",
    "for index, row in procData.iterrows():\n",
    "    newInfected, newRecovered, newDeceased = row[infectedDataToUse], row[\"Recuperados diarios\"], row[\"Fallecidos diarios\"]\n",
    "    #if not np.isnan(newInfected):\n",
    "    currentInfected += newInfected\n",
    "    if not np.isnan(newRecovered):\n",
    "        currentInfected -= newRecovered\n",
    "        currentRemoved += newRecovered\n",
    "    if not np.isnan(newDeceased):\n",
    "        currentInfected -= newDeceased\n",
    "        currentRemoved += newDeceased\n",
    "    totalInfectedPerDay.append(currentInfected)\n",
    "    totalRemovedPerDay.append(currentRemoved)\n",
    "\n",
    "SIRExperimentalData = pd.DataFrame()\n",
    "SIRExperimentalData[\"Infectados\"] = totalInfectedPerDay\n",
    "SIRExperimentalData[\"Removidos\"] = totalRemovedPerDay\n",
    "SIRExperimentalData.index.names = [\"Día\"]\n",
    "SIRExperimentalData.reset_index(inplace=True)"
   ]
  },
  {
   "cell_type": "code",
   "execution_count": 36,
   "metadata": {},
   "outputs": [
    {
     "name": "stdout",
     "output_type": "stream",
     "text": [
      " gamma: 0.0666(0.0) \t beta: 0.19876905512877474(4.19989043543012e-12))5027889309237522)\n",
      "Periodo infeccioso: 15.015015015015013\n",
      "Ritmo reproductivo: 2.9845203472788997\n"
     ]
    },
    {
     "data": {
      "image/png": "[encoded data removed]",
      "text/plain": [
       "<Figure size 432x288 with 2 Axes>"
      ]
     },
     "metadata": {
      "needs_background": "light"
     },
     "output_type": "display_data"
    }
   ],
   "source": [
    "#Optimizar parámetro de contagio\n",
    "\n",
    "def calculate_standard_error(observedResults, predictedResults):\n",
    "    if (len(observedResults) != len(predictedResults)):\n",
    "        print(\"ERROR: Los resultados observados y predichos no poseen el mismo número de datos\")\n",
    "        return 0\n",
    "    squaredDeviations = []\n",
    "    for obsY, predY in zip(observedResults, predictedResults):\n",
    "        squaredDeviations.append(np.power(obsY-predY, 2))\n",
    "    return np.sqrt( np.sum(squaredDeviations)/len(observedResults) )\n",
    "\n",
    "def calculate_correlation_coefficient(observedResults, predictedResults):\n",
    "    if (len(observedResults) != len(predictedResults)):\n",
    "        print(\"ERROR: Los resultados observados y predichos no poseen el mismo número de datos\")\n",
    "        return 0\n",
    "    correlation_matrix = np.corrcoef(observedResults, predictedResults)\n",
    "    correlation_xy = correlation_matrix[0,1]\n",
    "    r_squared = correlation_xy**2\n",
    "    return r_squared\n",
    "\n",
    "def chi_squared(observedResults, predictedResults):\n",
    "    if (len(observedResults) != len(predictedResults)):\n",
    "        print(\"ERROR: Los resultados observados y predichos no poseen el mismo número de datos\")\n",
    "        return 0\n",
    "    squaredDeviations = []\n",
    "    for obsY, predY in zip(observedResults, predictedResults):\n",
    "        squaredDeviations.append(np.power(obsY-predY, 2))\n",
    "    return np.sum(squaredDeviations)\n",
    "        \n",
    "def integrate_SIR_model(initialConditions, days, population, beta, gamma):\n",
    "    ret = odeint(SIRderiv, initialConditions, days, args=(population, beta, gamma))\n",
    "    suceptible, infected, removed = ret.T\n",
    "    resultDataFrame = pd.DataFrame()\n",
    "    resultDataFrame[\"Día\"] = days\n",
    "    resultDataFrame[\"Suceptibles\"] = suceptible\n",
    "    resultDataFrame[\"Infectados\"] = infected\n",
    "    resultDataFrame[\"Removidos\"] = removed\n",
    "    return resultDataFrame\n",
    "\n",
    "def clean_data(dataFrame, columnOfInterest):\n",
    "    dirtyColumn = dataFrame[[columnOfInterest]]\n",
    "    cleanColumn = dirtyColumn.dropna()\n",
    "    return cleanColumn\n",
    "\n",
    "def error_from_gamma(gamma, beta, initialConditions, population, experimentalData):\n",
    "    cleanData = clean_data(experimentalData, \"Removidos\")\n",
    "    resultingSIR = integrate_SIR_model(initialConditions, np.arange(len(cleanData)), population, beta, gamma)\n",
    "    experimentalInfected = experimentalData[\"Removidos\"].to_numpy()\n",
    "    predictedInfected = resultingSIR[\"Removidos\"].to_numpy()\n",
    "    return calculate_standard_error(experimentalInfected, predictedInfected)\n",
    "\n",
    "def error_from_beta(beta, gamma, initialConditions, population, experimentalData):\n",
    "    resultingSIR = integrate_SIR_model(initialConditions, np.arange(len(experimentalData)), population, beta, gamma)\n",
    "    experimentalInfected = experimentalData[\"Infectados\"].to_numpy()\n",
    "    predictedInfected = resultingSIR[\"Infectados\"].to_numpy()\n",
    "    return calculate_standard_error(experimentalInfected, predictedInfected)\n",
    "\n",
    "# Total de habitantes\n",
    "N = 19107216 #Fuente: INE\n",
    "\n",
    "# Condiciones iniciales\n",
    "I0 = 2*1 #Infectados\n",
    "R0 = 0 #Removidos\n",
    "S0 = N - I0 - R0\n",
    "\n",
    "initConditions = (S0, I0, R0)\n",
    "\n",
    "# Parámetros\n",
    "Rn0 = 2.5 #Ritmo reproductivo, n° de contagios por infectado por día\n",
    "TR = 14  #Periodo infeccioso en días\n",
    "\n",
    "gamma = 1/TR\n",
    "beta = gamma*Rn0\n",
    "\n",
    "optimizedBeta = gamma*Rn0\n",
    "iter = 0\n",
    "iterMax = 50\n",
    "threshold = 10e-10\n",
    "while iter < iterMax:\n",
    "    betaOptimizationResult = optimize.minimize(error_from_beta,\n",
    "                                           x0=beta,\n",
    "                                           args=(gamma, initConditions, N, SIRExperimentalData),\n",
    "                                           bounds=[(0.1, 10)])\n",
    "    optimizedBeta = float(betaOptimizationResult.x)\n",
    "    gammaOptimizationResult = optimize.minimize(error_from_gamma,\n",
    "                                            x0=gamma,\n",
    "                                            args=(optimizedBeta, initConditions, N, SIRExperimentalData),\n",
    "                                            bounds=[(0.0666, 0.0769)])\n",
    "    optimizedGamma = float(gammaOptimizationResult.x)\n",
    "    \n",
    "    gammaDelta, betaDelta = optimizedGamma-gamma, optimizedBeta-beta\n",
    "    gamma, beta = optimizedGamma, optimizedBeta\n",
    "    iter += 1\n",
    "    print(\"\\r gamma: {}({}) \\t beta: {}({})\".format(gamma,gammaDelta, beta,betaDelta), end='')\n",
    "    if (abs(gammaDelta) <= threshold) and (abs(betaDelta) <= threshold):\n",
    "        print(\"\")\n",
    "        break\n",
    "else:\n",
    "    print(\"Warning: Reached {0} iterations\".format(iterMax))\n",
    "optimizedTR = 1/optimizedGamma\n",
    "optimizedRn0 = optimizedBeta/optimizedGamma\n",
    "print(\"Periodo infeccioso: {0}\\nRitmo reproductivo: {1}\".format(optimizedTR, optimizedRn0))\n",
    "\n",
    "optimizedSIR = integrate_SIR_model(initConditions, np.arange(len(SIRExperimentalData)), N, optimizedBeta, optimizedGamma)\n",
    "\n",
    "figure = plt.figure()\n",
    "SIRInfectedPlot = figure.add_subplot(211)\n",
    "SIRInfectedPlot.plot(SIRExperimentalData[\"Día\"], SIRExperimentalData[\"Infectados\"], 'o', color=\"C1\", label=\"Datos reales\")\n",
    "SIRInfectedPlot.plot(SIRExperimentalData[\"Día\"], optimizedSIR[\"Infectados\"], color=\"C3\", label=\"Proyección\")\n",
    "plt.legend()\n",
    "plt.yscale(\"log\")\n",
    "plt.ylabel(\"Infectados\")\n",
    "\n",
    "\n",
    "SIRRemovedPlot = figure.add_subplot(212)\n",
    "SIRRemovedPlot.plot(SIRExperimentalData[\"Día\"], SIRExperimentalData[\"Removidos\"], 'o', color=\"C0\", label=\"Datos reales\")\n",
    "SIRRemovedPlot.plot(SIRExperimentalData[\"Día\"], optimizedSIR[\"Removidos\"], color=\"C2\", label=\"Proyección\")\n",
    "plt.legend()\n",
    "plt.ylabel(\"Removidos\")\n",
    "plt.xlabel(\"Días desde el primer contagio\")\n",
    "\n",
    "plt.show()"
   ]
  },
  {
   "cell_type": "code",
   "execution_count": 37,
   "metadata": {},
   "outputs": [
    {
     "data": {
      "image/png": "[encoded data removed]",
      "text/plain": [
       "<Figure size 432x288 with 2 Axes>"
      ]
     },
     "metadata": {
      "needs_background": "light"
     },
     "output_type": "display_data"
    }
   ],
   "source": [
    "optimizedSIR = integrate_SIR_model(initConditions, np.arange(len(SIRExperimentalData)+90), N, optimizedBeta, optimizedGamma)\n",
    "\n",
    "figure = plt.figure()\n",
    "SIRInfectedPlot = figure.add_subplot(211)\n",
    "SIRInfectedPlot.plot(SIRExperimentalData[\"Día\"], SIRExperimentalData[\"Infectados\"], 'o', color=\"C3\", label=\"Datos reales\")\n",
    "SIRInfectedPlot.plot(optimizedSIR[\"Día\"], optimizedSIR[\"Infectados\"], color=\"C3\", label=\"Proyección\")\n",
    "plt.legend()\n",
    "plt.yscale(\"log\")\n",
    "plt.ylabel(\"Infectados\")\n",
    "\n",
    "\n",
    "SIRRemovedPlot = figure.add_subplot(212)\n",
    "SIRRemovedPlot.plot(SIRExperimentalData[\"Día\"], SIRExperimentalData[\"Removidos\"], 'o', color=\"C2\", label=\"Datos reales\")\n",
    "SIRRemovedPlot.plot(optimizedSIR[\"Día\"], optimizedSIR[\"Removidos\"], color=\"C2\", label=\"Proyección\")\n",
    "plt.legend()\n",
    "plt.ylabel(\"Removidos\")\n",
    "plt.xlabel(\"Días desde el primer contagio\")\n",
    "plt.show()"
   ]
  },
  {
   "cell_type": "code",
   "execution_count": 38,
   "metadata": {},
   "outputs": [
    {
     "name": "stdout",
     "output_type": "stream",
     "text": [
      "Delta de infectados: 3810\n",
      "5737 nuevos casos proyectados.\n"
     ]
    }
   ],
   "source": [
    "lastDay = len(SIRExperimentalData)\n",
    "nextDayNewInfected = optimizedSIR.loc[lastDay+1, \"Infectados\"] - optimizedSIR.loc[lastDay, \"Infectados\"]\n",
    "nextDayNewRecovered = optimizedSIR.loc[lastDay+1, \"Removidos\"] - optimizedSIR.loc[lastDay, \"Removidos\"]\n",
    "\n",
    "newConfirmed = nextDayNewInfected + nextDayNewRecovered\n",
    "\n",
    "print(\"Delta de infectados: {0}\".format(int(nextDayNewInfected)))\n",
    "\n",
    "print(\"{0} nuevos casos proyectados.\".format(int(newConfirmed)))"
   ]
  },
  {
   "cell_type": "code",
   "execution_count": null,
   "metadata": {},
   "outputs": [],
   "source": []
  }
 ],
 "metadata": {
  "kernelspec": {
   "display_name": "Python 3",
   "language": "python",
   "name": "python3"
  },
  "language_info": {
   "codemirror_mode": {
    "name": "ipython",
    "version": 3
   },
   "file_extension": ".py",
   "mimetype": "text/x-python",
   "name": "python",
   "nbconvert_exporter": "python",
   "pygments_lexer": "ipython3",
   "version": "3.7.6"
  }
 },
 "nbformat": 4,
 "nbformat_minor": 4
}
